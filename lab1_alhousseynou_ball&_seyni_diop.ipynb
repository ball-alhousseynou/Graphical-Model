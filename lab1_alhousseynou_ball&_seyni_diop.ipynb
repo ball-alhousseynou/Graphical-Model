{
  "nbformat": 4,
  "nbformat_minor": 0,
  "metadata": {
    "colab": {
      "name": "lab1_alhousseynou_ball&_seyni_diop.ipynb",
      "provenance": [],
      "collapsed_sections": []
    },
    "kernelspec": {
      "name": "python3",
      "display_name": "Python 3"
    }
  },
  "cells": [
    {
      "cell_type": "markdown",
      "metadata": {
        "id": "M_cv9T2Rn8gw",
        "colab_type": "text"
      },
      "source": [
        "# <font size = 7> <center> Introduction to Probabilistic Graphical Models </center> </font>\n",
        "  \n",
        " **<center>Practical Session 1</center>**"
      ]
    },
    {
      "cell_type": "markdown",
      "metadata": {
        "id": "1LDH1BFFpTRy",
        "colab_type": "text"
      },
      "source": [
        "<font size=5> M2 DATASCIENCE 2019/2020 </font>\n",
        "* ***BALL Alhousseynou***\n",
        "* ***DIOP Seyni***"
      ]
    },
    {
      "cell_type": "markdown",
      "metadata": {
        "id": "BMWd_6ycZkqL",
        "colab_type": "text"
      },
      "source": [
        "# Question 0\n",
        "\n",
        "Suppose that we have $v =(v_1,...,v_n)$ such as $v_i$<0 and $|v_i|$ very large.\n",
        "\n",
        "Directly calculating $\\log\\sum\\exp(v_i)$ is a problem. So we do the following transformation\n",
        "\n",
        "$\\log\\sum_{i=1}^n\\exp(v_i)=\\log\\sum_{i=1}^n\\exp(v_i-v_{max}+v_{max})$ with $v_{max}=max\\left\\{v_1,...v_n\\right\\}$\n",
        "\n",
        "$$\\log\\sum_{i=1}^n\\exp(v_i)=\\log\\sum_{i=1}^n\\exp(v_i-v_{max}+v_{max})=\\log\\sum_{i=1}^n\\exp(v_i-v_{max})*exp(v_{max})=\\boldsymbol{v_{max}+\\log\\sum_{i=1}^n\\exp(v_i-v_{max})}$$\n"
      ]
    },
    {
      "cell_type": "code",
      "metadata": {
        "id": "UFwL2ucNagPa",
        "colab_type": "code",
        "colab": {}
      },
      "source": [
        "# import nympy \n",
        "import numpy as np"
      ],
      "execution_count": 0,
      "outputs": []
    },
    {
      "cell_type": "code",
      "metadata": {
        "id": "bQuj6Zj5b9g-",
        "colab_type": "code",
        "colab": {}
      },
      "source": [
        "def s(v):\n",
        "    m = np.max(v)\n",
        "    return m + np.log(np.sum(np.exp(v - m)))\n"
      ],
      "execution_count": 0,
      "outputs": []
    },
    {
      "cell_type": "code",
      "metadata": {
        "id": "EZy7L_qpcvz5",
        "colab_type": "code",
        "outputId": "0fdb83ad-de4d-4e4d-d898-397553860898",
        "colab": {
          "base_uri": "https://localhost:8080/",
          "height": 35
        }
      },
      "source": [
        "# Let's test our function\n",
        "v = ( -1234 , -1235)\n",
        "\n",
        "s(v)"
      ],
      "execution_count": 0,
      "outputs": [
        {
          "output_type": "execute_result",
          "data": {
            "text/plain": [
              "-1233.6867383124818"
            ]
          },
          "metadata": {
            "tags": []
          },
          "execution_count": 3
        }
      ]
    },
    {
      "cell_type": "markdown",
      "metadata": {
        "id": "c3F2gP0QZWwJ",
        "colab_type": "text"
      },
      "source": [
        "# Question 1\n"
      ]
    },
    {
      "cell_type": "markdown",
      "metadata": {
        "id": "Ifj4r9Vsr1lu",
        "colab_type": "text"
      },
      "source": [
        "A robot is moving across a circular corridor. We assume that the possible positions of the robot is a discrete set with $N$ locations. The initial position of the robot is unknown and assumed to be uniformly distributed. At each step $k$, the robot stays where it is with probability $\\varepsilon$, or moves to the next point in counter clock direction with probability $1 −\\varepsilon$. At each step $k$, the robot can observe its true position with probability $\\omega$. With probability $1 − \\omega$, the position sensor fails and gives a measurement that is independent from the true position(uniformly distributed)."
      ]
    },
    {
      "cell_type": "markdown",
      "metadata": {
        "id": "cPXsczZ6ePJI",
        "colab_type": "text"
      },
      "source": [
        "## 1.\n",
        "**Generative model**\n",
        "\n",
        "Let's define $X_k$ as the variable which give the true position of the robot at time $k$\n",
        "\n",
        " $X_k = 0,1,...,N-1$  \n",
        " $X_0 \\sim \\mathcal{U}(\\{0,1,...,N-1\\})$\n",
        "$$\\mathbb P(X_0,X_1, ... , X_T) = \\mathbb P(X_0) \\mathbb(X_1|X_0) ... \\mathbb P(X_T|X_{T-1})$$\n",
        "\n",
        "\n",
        "avec \n",
        "\n",
        "$$\\mathbb P(x_t|x_{t-1}) =\\varepsilon\\delta(x_t-x_{t-1}) +(1- \\varepsilon) \\delta(x_t-x_{t-1}-1) $$\n",
        "\n",
        "and we can rewrite it with transition matrix\n",
        "\n",
        "$$\n",
        "        p(x_{k+1} | x_k) = \\varepsilon \n",
        "        \\begin{pmatrix}\n",
        "            1       & 0 & 0 & \\dots & 0 \\\\\n",
        "            0       & 1 & 0 & \\dots & 0 \\\\\n",
        "            \\dots       & \\dots & \\ddots & \\dots & \\dots \\\\\n",
        "            \\dots       & \\dots & \\dots & \\ddots & \\dots \\\\\n",
        "            0       & 0 & 0 & \\dots & 1\n",
        "        \\end{pmatrix} \n",
        "        + (1 - \\varepsilon) \n",
        "        \\begin{pmatrix}\n",
        "            0       & 0 & 0 & \\dots & 1 \\\\\n",
        "            1       & 0 & 0 & \\dots & 0 \\\\\n",
        "            \\dots       & \\ddots & \\dots & \\dots & \\dots \\\\\n",
        "            \\dots       & \\dots & \\ddots & \\dots & \\dots \\\\\n",
        "            0       & 0 & \\dots & 1 & 0       \n",
        "        \\end{pmatrix}\n",
        "$$\n",
        "\n",
        "   ![image](https://ucd84c82212506d1e199b20d9796.previews.dropboxusercontent.com/p/thumb/AAk8IHF0Z4vgbvBdi10a31m9GDiXAow_nSv8H3NdSjtbN0lX9uty_XwA3LAVj31mMIwI-BBwIzrXIYPYSqCGs56yDMJKUsruOrBSr2rhlscRstGBLs2cfHuaxMtxI84z_nugb5baKqThOA66IoxXOFL9-hYsv42vrt1cmOHK4fkMoM-8FwNfBH5c87WfXyZMyW_tZwckMPuCajEQWeNmnFtaxUuuawC46bYZt7mcQcVTuO8_QJEIrot_TnJX88brlztbEJPcgvD6oKl4x5lXfalW6bOybJDU78wOosGT9DobzupH45VUyYiZNe_YsfQCDaPm-84uVXSS7sP6TnguQsa_6dsFkTwBZo3Al-a3NQf8KkTVAfoZ4hjH4zx6k4VgtMFkdOjYgNDff6OBQzzKLQ6K/p.jpeg?fv_content=true&size_mode=5)\n",
        "\n",
        "## 2.\n",
        "\n",
        "Define $Y_k$ as the variable representing the predicted position by the sensor.\n",
        "\n",
        " $$ \\mathbb P(y_k|x_k) = \\omega \\delta(y_k-x_k) + (1-\\omega) \\mathcal{U}(\\{0,1,...,N-1\\})$$\n",
        "  with  \n",
        "   - $y_k$: predieted position by the sensor at time k\n",
        "   - $x_k$: the true position of time k\n",
        "   \n",
        "   ![](https://ucb1d4990244cf7c36dbb9e63c5b.previews.dropboxusercontent.com/p/thumb/AAmXVIuwiVXyqOszL7kEM8tEYjZRud_ZuZFuOsAMVgGtG9x__Cg1sg1W4_IzOkqneUj1NPPkBteCPUgHo6cyWJTycvAkDQEiipc6kOBaMq3WD5m_1HYgQrj5nw7mtJ_YVUidpcwTW-UzuJeW8MzFbidjGSOn37gTKY1mkfRNAzrE0jowNekx_1ScQe-azq5WiCuBNKS65gKQDFqre8mhwNfLMKCzj_okFJqhJmLryfVdWVKmPxPqQetx_3Cl1pLlJ3q-FvToZsvvGgd0NnKZqktl7l2NXWyULZEGAmh81p2ajyg1cYL9l3RLHpgHXd2epnv_AMCqSYFgsJeVxIeaXvXNWWp7V9RNqDKJCVmeEsci6eWMRmG2a1YIzqhg2dvFVQJmJEhMfisjGLTxHn1pKNrh/p.jpeg?size=2048x1536&size_mode=3)\n",
        "\n",
        "\n",
        "## 3.\n",
        "- (a) ***Distribution of the robot’s current position given the observations so far***  \n",
        "\n",
        " $p(x_t|y_{1:t}) $\n",
        "\n",
        "- (b) ***Distribution of the robot’s position at time step k given all the observations***\n",
        "\n",
        " $p(x_{k}|y_{1:T})$\n",
        "- (c) ***Distribution of the robot’s next position given the observations so far***\n",
        "\n",
        " $p(x_{k+1}|x_{1:k-1})$\n",
        "  \n",
        "    \n",
        "    \n",
        "- (d) ***Distribution of the robot’s next sensor reading given the observations so far***  \n",
        "\n",
        " $p(y_{k+1}|y_{1:k}) $\n",
        "\n",
        "\n",
        "- (e) ***Distribution of the robot’s initial position given observations so far***\n",
        "\n",
        " $p(x_{1}|y_{1:k}) $\n",
        "\n",
        "\n",
        "- (f) ***Most likely current position of the robot given the observations so far***\n",
        "\n",
        " $\\underset{x_k}{\\mathrm{argmax}} \\; p(x_k|y_{1:k}) $\n",
        "\n",
        "\n",
        "- (g) ***Most likely trajectory taken by the robot from the start until now given the observations so far***  \n",
        "\n",
        " $\\underset{x_{1:k}}{\\mathrm{argmax}} \\; p(x_{1:k}|y_{1:k}) $\n",
        "\n",
        "\n"
      ]
    },
    {
      "cell_type": "markdown",
      "metadata": {
        "id": "oFc9HunZuLSc",
        "colab_type": "text"
      },
      "source": [
        "## 4."
      ]
    },
    {
      "cell_type": "markdown",
      "metadata": {
        "id": "Ijs6uLh8xtm_",
        "colab_type": "text"
      },
      "source": [
        "Let's implement a program that simulates this scenario; i.e., generate realizations from the movements of the robot and the associated sensor readings. We will simulate a scenario for $k = 1, \\dots , 100$ with $N = 50$, $\\varepsilon = 0.3$, $\\omega = 0.8$.\n",
        "</div>"
      ]
    },
    {
      "cell_type": "code",
      "metadata": {
        "id": "i8nf9ejti1ij",
        "colab_type": "code",
        "colab": {}
      },
      "source": [
        "#import packages that we need\n",
        "import numpy as np\n",
        "import matplotlib.pyplot as plt\n",
        "\n",
        "# Overall let's define our global variable\n",
        "\n",
        "## number of stages\n",
        "N = 50  \n",
        "##number of steps\n",
        "K = 100\n",
        "##\n",
        "w = 0.8\n",
        "eps = 0.3\n",
        "\n",
        "# transition model\n",
        "Id = np.identity(N)  #identity matrix\n",
        "C = np.roll(Id, 1, axis=0) # circular matrix\n",
        "trans_mat = w*Id + (1-w)*C  #transition matrix\n",
        "\n",
        "# observation model\n",
        "obs_mat = w*Id + (1-w)*np.ones((N,N))/N # observation matrix\n"
      ],
      "execution_count": 0,
      "outputs": []
    },
    {
      "cell_type": "code",
      "metadata": {
        "id": "mGqbgKyM0KTQ",
        "colab_type": "code",
        "colab": {}
      },
      "source": [
        "#the initial position of the robot is unknown and assumed to be uniformly distributed\n",
        "prob_start = np.ones(N)/N\n",
        "\n",
        "def data_generate(trans_mat , obs_mat , prob_start, N , K) :\n",
        "    \"\"\"\n",
        "    Parameters\n",
        "    ----------\n",
        "    trans_mat : Transition matrix\n",
        "       `numpy.array`, shape (N, N)\n",
        "       \n",
        "    obs_mat :Observation matrix\n",
        "      `numpy.array`, shape (N, N)\n",
        "    \n",
        "    prob_start : `numpy.array`, shape (N,)\n",
        "        \n",
        "    \n",
        "    N : Number of states\n",
        "       `int`\n",
        "        \n",
        "        \n",
        "    K : Number of steps\n",
        "        `int`\n",
        "        \n",
        "\n",
        "    Returns\n",
        "    -------\n",
        "    obs : observations\n",
        "          shape (K,)\n",
        "        \n",
        "    \n",
        "    state : `numpy.array`, shape (K,)\n",
        "        The state trajectory\n",
        "    \"\"\"\n",
        "    \n",
        "    state = np.zeros(K, dtype = int)\n",
        "    obs = np.zeros(K, dtype = int)\n",
        "    \n",
        "    state[0] = np.random.choice(N, p = prob_start)\n",
        "    obs[0] = np.random.choice(N, p = obs_mat[:, state[0]])\n",
        "        \n",
        "    for k in range(1, K):\n",
        "        state[k] = np.random.choice(N, p = trans_mat[:,state[k - 1]])\n",
        "        obs[k] = np.random.choice(N, p = obs_mat[:, state[k]])\n",
        "\n",
        "    return obs, state"
      ],
      "execution_count": 0,
      "outputs": []
    },
    {
      "cell_type": "code",
      "metadata": {
        "id": "S0yMNuwq4a9o",
        "colab_type": "code",
        "outputId": "7504cb38-6a58-48ed-dd44-fb8815f738f3",
        "colab": {
          "base_uri": "https://localhost:8080/",
          "height": 500
        }
      },
      "source": [
        "yt, xt = data_generate(trans_mat, obs_mat, prob_start, N, K)\n",
        "\n",
        "plt.figure(figsize = (15,8))\n",
        "plt.plot(yt, \"ro\", label = \"Observations\")\n",
        "plt.plot(xt, \"c--\", label=\"States\",marker=\".\", linewidth=0.3, markersize=7)\n",
        "plt.xlabel(\"Steps\")\n",
        "plt.ylabel(\"Positions\")\n",
        "plt.legend()\n",
        "plt.show()"
      ],
      "execution_count": 0,
      "outputs": [
        {
          "output_type": "display_data",
          "data": {
            "image/png": "[encoded data removed]",
            "text/plain": [
              "<Figure size 1080x576 with 1 Axes>"
            ]
          },
          "metadata": {
            "tags": []
          }
        }
      ]
    },
    {
      "cell_type": "markdown",
      "metadata": {
        "id": "Jly06VPwMO4s",
        "colab_type": "text"
      },
      "source": [
        "## 5.\n",
        "\n",
        "Let's implement Forward-Backward algorithms\n",
        "\n",
        "***Forward pass***\n",
        "\n",
        "- predict\n",
        "$$ \\alpha_{k|k-1}(x_k) = p(y_{1:k-1}, x_k) = \\sum_{x_{k-1}}p(x_{k}| x_{k-1})p\n",
        "(y_{1:k-1}, x_{k-1}) $$\n",
        "$$ \\alpha_{k|k-1}(x_k) = \\sum_{x_{k-1}}p(x_{k}| x_{k-1})\\alpha_{k-1|k-1}(x_{k-1})$$\n",
        "\n",
        "\\\n",
        "- update\n",
        "$$ \\alpha_{k|k}(x_k) = p(y_{1:k}, x_k) = p(y_{k}|x_k)p(y_{1:k-1}, x_k) $$ \\\n",
        "$$ \\alpha_{k|k-1}(x_k) = p(y_{k}|x_k)\\alpha_{k-1|k}(x_k)$$\n",
        "\n",
        "***Backward pass***\n",
        "- predict\n",
        "$$ \\beta_{k|k+1}(x_k) = p(y_{k+1:T}| x_k) = \\sum_{x_{k+1}}p(x_{k+1}| x_{k})p(y_{k+1:T}|x_{k+1}) $$\n",
        "$$ \\beta_{k|k+1}(x_k) = \\sum_{x_{k+1}}p(x_{k+1}| x_{k})\\beta_{k+1|k+1}(x_{k+1})$$\n",
        "\n",
        "- update\n",
        "\n",
        "$$\\beta_{k|k}= p(y_{k:T}|x_k) = p(y_k|x_k)p(y_{k+1:T}|x_k)$$\n",
        "\n",
        "$$\\beta_{k|k}= p(y_k|x_k)\\beta_{k|k+1}(x_k)$$"
      ]
    },
    {
      "cell_type": "code",
      "metadata": {
        "id": "5liUK0v6O3ZB",
        "colab_type": "code",
        "colab": {}
      },
      "source": [
        "def state_predict(trans_mat, v):\n",
        "    \"\"\"\n",
        "    Computing trans_mat * v in log-domain\n",
        "    \n",
        "    Parameters\n",
        "    ----------\n",
        "    trans_mat : State transition matrix\n",
        "                array : shape (N, N)\n",
        "                \n",
        "    v : Filtred potential\n",
        "        array : shape (N, K)\n",
        "    \n",
        "    Returns\n",
        "    -------\n",
        "    log_v : array shape (N, K)\n",
        "            Predicted potential\n",
        "    \"\"\"\n",
        "    \n",
        "    v_max = np.max(v) \n",
        "    p = np.exp(v - v_max)\n",
        "    log_v = np.log(trans_mat.dot(p)) + v_max\n",
        "    \n",
        "    return log_v\n",
        "\n",
        "def state_update(obs_mat, log_v):\n",
        "    \"\"\"\n",
        "    Updating the state\n",
        "    \n",
        "    Parameters\n",
        "    ----------\n",
        "    obs_mat : Observation matrix\n",
        "              array : shape (N, N)\n",
        "  \n",
        "    log_v : Predicted potential \n",
        "            array : shape (N, K)\n",
        "    \n",
        "    Returns\n",
        "    -------\n",
        "    lup : array : shape (N, K)\n",
        "    \"\"\"\n",
        "    \n",
        "    lup = np.log(obs_mat) + log_v\n",
        "    return lup"
      ],
      "execution_count": 0,
      "outputs": []
    },
    {
      "cell_type": "code",
      "metadata": {
        "id": "nKINvgfXW_cv",
        "colab_type": "code",
        "colab": {}
      },
      "source": [
        "def forward_backward(trans_mat, obs_mat, start, N, K, yt):\n",
        "    # Forward pass\n",
        "    log_alpha = np.zeros((N, K)) \n",
        "    log_alpha_predict = np.zeros((N, K)) \n",
        "\n",
        "    # Initialisation\n",
        "    log_alpha_predict[:, 0] = np.log(start)\n",
        "    log_alpha[:, 0] = state_update(obs_mat[yt[0]], log_alpha_predict[:, 0])\n",
        "\n",
        "    for k in range(1, K):\n",
        "        log_alpha_predict[:,k] = state_predict(trans_mat, log_alpha[:,k - 1])\n",
        "        log_alpha[:,k] = state_update(obs_mat[yt[k]], log_alpha_predict[:, k])\n",
        "\n",
        "\n",
        "\n",
        "    # Backward pass\n",
        "    log_beta = np.zeros((N, K)) \n",
        "    log_beta_postdict = np.zeros((N, K)) \n",
        "\n",
        "    # Initialisation\n",
        "    log_beta_postdict[:, K-1] = np.zeros(N)\n",
        "    log_beta[:, K-1] = state_update(obs_mat[yt[K-1]], log_beta_postdict[:, K-1])\n",
        "\n",
        "    for k in range(K-2, -1, -1):\n",
        "        log_beta_postdict[:, k] = state_predict(trans_mat.T, log_beta[:,k + 1])\n",
        "        log_beta[:, k] = state_update(obs_mat[yt[k]], log_beta_postdict[:, k])\n",
        "    \n",
        "    \n",
        "    return log_alpha, log_beta_postdict"
      ],
      "execution_count": 0,
      "outputs": []
    },
    {
      "cell_type": "markdown",
      "metadata": {
        "id": "R7QWp83Sged4",
        "colab_type": "text"
      },
      "source": [
        "Let's computing quantities defined in 3a,b,f\n",
        "\n",
        " * 3a  \n",
        " \n",
        " $\\log(p(x_k | y_{1:k})) = \\log(p(x_k , y_{1:k}))-\\log(p(y_{1:k}))= \\log(\\alpha_{k|k}(x_k))-\\log(p(y_{1:k}))$\n",
        " \n",
        " \n",
        " * 3b  \n",
        " \n",
        "  $\\log(p(x_k | y_{1:K})) = \\log(p(x_k , y_{1:K}))-\\log(p(y_{1:K}))= \\log(p(x_k,y_{1:k})*p(x_k,y_{k:K}))-\\log(p(y_{1:K})\\\\ \\ \\ \\ \\ \\ \\ \\ \\ \\ \\ \\ \\ \\ \\ \\ \\ \\ \\ \\ \\ \\ \\ \\ \\ \\  =\\log(\\alpha_{k|k}(x_k))+\\log(\\beta_{k|k}(x_k))-\\log(p(y_{1:K}))$\n",
        "  \n",
        " * 3f  \n",
        " \n",
        " $\\underset{x_k}{\\mathrm{argmax}} \\; p(x_k|y_{1:k}) = \n",
        " \\underset{x_k}{\\mathrm{argmax}} \\; \\log(p(x_k|y_{1:k})) $"
      ]
    },
    {
      "cell_type": "code",
      "metadata": {
        "id": "Y-R4OxL1ga-7",
        "colab_type": "code",
        "colab": {}
      },
      "source": [
        "log_alpha, log_beta_postdict = forward_backward(trans_mat, obs_mat, prob_start, N, K, yt)\n",
        "\n",
        "# Filtering (3.a)\n",
        "sum_log_alpha = s(log_alpha)\n",
        "log_pa = log_alpha - sum_log_alpha\n",
        "\n",
        "# Smoothing (3.b)\n",
        "log_gamma =  log_alpha + log_beta_postdict \n",
        "sum_log_gamma = s(log_gamma)\n",
        "log_pb = log_gamma - sum_log_gamma\n",
        "\n",
        "# (3.f)\n",
        "most_likely_position = np.zeros(K)\n",
        "for i in range(K):\n",
        "    most_likely_position[i] = np.argmax(log_pa[:,i])"
      ],
      "execution_count": 0,
      "outputs": []
    },
    {
      "cell_type": "code",
      "metadata": {
        "id": "nHdrZsSncXa-",
        "colab_type": "code",
        "outputId": "04b0de9c-b646-4f4b-ed2a-faa3186fdf9a",
        "colab": {
          "base_uri": "https://localhost:8080/",
          "height": 350
        }
      },
      "source": [
        "plt.figure(figsize = (15,5))\n",
        "plt.plot(most_likely_position, \"c.\")\n",
        "plt.xlabel(\"Steps\")\n",
        "plt.ylabel(\"Positions\")\n",
        "plt.title(\"Most likely position of the robot at each step given the observations so far\")\n",
        "plt.axis([0, 100, 0, 50])\n",
        "plt.show()"
      ],
      "execution_count": 0,
      "outputs": [
        {
          "output_type": "display_data",
          "data": {
            "image/png": "[encoded data removed]",
            "text/plain": [
              "<Figure size 1080x360 with 1 Axes>"
            ]
          },
          "metadata": {
            "tags": []
          }
        }
      ]
    },
    {
      "cell_type": "markdown",
      "metadata": {
        "id": "3Nas_8P56vkO",
        "colab_type": "text"
      },
      "source": [
        "## 6."
      ]
    },
    {
      "cell_type": "markdown",
      "metadata": {
        "id": "1ZZKiA7oYroh",
        "colab_type": "text"
      },
      "source": [
        "With a probability $\\kappa$ the robot is kidnapped and its new position is   independent from its previous position and is uniformly distributed. So with $1−\\kappa$, the robot is keep using its normal moving using the matrix $A$ (the transition matrix). This gives us the new transition matrix given by\n",
        "\n",
        "$$\n",
        "        A_{new} = \\frac{\\kappa}{N}\n",
        "        \\begin{pmatrix}\n",
        "            1       & \\dots & \\dots & \\dots & 1 \\\\\n",
        "            \\vdots       & \\ddots & \\dots & \\dots & \\vdots \\\\\n",
        "            \\vdots       & \\dots & \\ddots & \\dots & \\vdots \\\\\n",
        "            \\vdots       & \\dots & \\dots & \\ddots & \\vdots \\\\\n",
        "            1       & \\dots & \\dots & \\dots & 1\n",
        "        \\end{pmatrix}+(1 - \\kappa)  A \n",
        " $$"
      ]
    },
    {
      "cell_type": "code",
      "metadata": {
        "id": "xv9fd0Hk3inq",
        "colab_type": "code",
        "colab": {}
      },
      "source": [
        "kappa = 0.1\n",
        "trans_mat_new = (1 - kappa) * trans_mat + kappa * np.ones((N,N)) / N\n",
        "\n",
        "yt_new, state_new = data_generate(trans_mat_new, obs_mat, prob_start, N, K)\n",
        "\n",
        "log_alpha_new, log_beta_new_postdict = forward_backward(trans_mat_new, obs_mat, prob_start, N, K, yt_new)\n",
        "\n",
        "# Filtering (3.a )\n",
        "sum_log_alpha_new = s(log_alpha_new)\n",
        "log_filtering_new = log_alpha_new - sum_log_alpha_new\n",
        "\n",
        "# Smoothing (3.b )\n",
        "log_gamma_new =  log_alpha_new + log_beta_new_postdict \n",
        "sum_log_gamma_new = s(log_gamma_new)\n",
        "log_smoothing_new = log_gamma_new - sum_log_gamma_new\n",
        "\n",
        "# Most likely position of the robot given the observations so far (3.f)\n",
        "most_likely_position_new = np.zeros(K)\n",
        "for i in range(K):\n",
        "    most_likely_position_new[i] = np.argmax(log_filtering_new[:,i])"
      ],
      "execution_count": 0,
      "outputs": []
    },
    {
      "cell_type": "code",
      "metadata": {
        "id": "mbzNzQ-r35Vz",
        "colab_type": "code",
        "outputId": "dd234794-7791-4a41-ec93-44c55ee77429",
        "colab": {
          "base_uri": "https://localhost:8080/",
          "height": 350
        }
      },
      "source": [
        "#Let's plot the most likely positions of the robot given the observations so far\n",
        "plt.figure(figsize = (15,5))\n",
        "plt.plot(most_likely_position_new, \"c.\")\n",
        "plt.xlabel(\"Steps\")\n",
        "plt.ylabel(\"Positions\")\n",
        "plt.title(\"Most likely position of the robot at each step given the observations\")\n",
        "plt.show()"
      ],
      "execution_count": 0,
      "outputs": [
        {
          "output_type": "display_data",
          "data": {
            "image/png": "[encoded data removed]",
            "text/plain": [
              "<Figure size 1080x360 with 1 Axes>"
            ]
          },
          "metadata": {
            "tags": []
          }
        }
      ]
    }
  ]
}